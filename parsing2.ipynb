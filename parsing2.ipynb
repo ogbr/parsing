{
 "cells": [
  {
   "cell_type": "code",
   "execution_count": 1,
   "id": "6d1afedc-3abc-4592-9bdb-8e34ca069fe5",
   "metadata": {},
   "outputs": [],
   "source": [
    "from pprint import pprint\n",
    "from lxml import html\n",
    "import requests\n",
    "from IPython.display import Image, display"
   ]
  },
  {
   "cell_type": "code",
   "execution_count": 2,
   "id": "14102c8f-b8af-45af-8d15-6f5c26b0f24b",
   "metadata": {},
   "outputs": [
    {
     "name": "stdout",
     "output_type": "stream",
     "text": [
      "1. 00:01, Чипирование людей, редактирование ДНК и альтернатива антибиотикам., \n",
      "\tСсылка: https://lenta.ru/articles/2023/01/05/topfivemedical/ \n",
      "\n"
     ]
    },
    {
     "data": {
      "text/html": [
       "<img src=\"https://icdn.lenta.ru/images/2022/12/21/16/20221221160238721/owl_article_280_75dc037547a252412857ca53f5205717.jpeg\" width=\"100\" height=\"100\" class=\"unconfined\"/>"
      ],
      "text/plain": [
       "<IPython.core.display.Image object>"
      ]
     },
     "metadata": {},
     "output_type": "display_data"
    },
    {
     "name": "stdout",
     "output_type": "stream",
     "text": [
      "2. 12:14, Генсек НАТО счел опасным недооценивать Россию, \n",
      "\tСсылка: https://lenta.ru/news/2023/01/05/stoltenbergg/ \n",
      "\n",
      "3. 12:07, В России выявили 3724 случая коронавируса, \n",
      "\tСсылка: https://lenta.ru/news/2023/01/05/kvd5jan/ \n",
      "\n",
      "4. 12:03, Футболист сборной России оценил возможный переход РФС в Азиатскую конфедерацию, \n",
      "\tСсылка: https://lenta.ru/news/2023/01/05/georgiydzhi/ \n",
      "\n",
      "5. 11:53, Во Франции заявили о желании сохранить контакты с Россией, \n",
      "\tСсылка: https://lenta.ru/news/2023/01/05/contacts/ \n",
      "\n",
      "6. 11:49, Норвегия конфисковала у россиянина семь миллионов долларов «преступных доходов», \n",
      "\tСсылка: https://lenta.ru/news/2023/01/05/dohody/ \n",
      "\n",
      "7. 11:43, МИД Франции назвал сроки отправки на Украину бронемашин AMX-10 RC, \n",
      "\tСсылка: https://lenta.ru/news/2023/01/05/parizh_technika/ \n",
      "\n",
      "8. 00:03, 4 января 2023, «Это инстинкт самосохранения», \n",
      "\tСсылка: https://lenta.ru/articles/2023/01/04/prazdniki/ \n",
      "\n"
     ]
    },
    {
     "data": {
      "text/html": [
       "<img src=\"https://icdn.lenta.ru/images/2022/12/29/18/20221229181938420/owl_article_280_0449ee05ac962208dcde24443f48a730.jpg\" width=\"100\" height=\"100\" class=\"unconfined\"/>"
      ],
      "text/plain": [
       "<IPython.core.display.Image object>"
      ]
     },
     "metadata": {},
     "output_type": "display_data"
    },
    {
     "name": "stdout",
     "output_type": "stream",
     "text": [
      "9. 11:32, Пленные украинские военные рассказали о своем отношении к Зеленскому, \n",
      "\tСсылка: https://lenta.ru/news/2023/01/05/voyenniy/ \n",
      "\n",
      "10. 11:32, Эшли Олсен тайно вышла замуж, \n",
      "\tСсылка: https://lenta.ru/news/2023/01/05/olsen/ \n",
      "\n",
      "11. 11:16, Турция заявила о нейтрализации 12 боевиков РПК на севере Сирии, \n",
      "\tСсылка: https://lenta.ru/news/2023/01/05/rpk/ \n",
      "\n",
      "12. 11:04, В ряде областей Украины объявили воздушную тревогу, \n",
      "\tСсылка: https://lenta.ru/news/2023/01/05/trevoga/ \n",
      "\n",
      "13. 10:54, В Югре появится первая особая экономическая зона, \n",
      "\tСсылка: https://lenta.ru/news/2023/01/05/ugra/ \n",
      "\n",
      "14. 10:51, В Германии оценили возможности Киева вернуть Крым и Донбасс, \n",
      "\tСсылка: https://lenta.ru/news/2023/01/05/unrealzadacha/ \n",
      "\n",
      "15. 10:42, Стало известно об убийстве вологодской журналистки в Москве, \n",
      "\tСсылка: https://moslenta.ru/news/city/ubiistvo-zhurnalistki-05-01-2023.htm \n",
      "\n",
      "16. 10:39, Капризов повторил клубный рекорд Миннесоты, \n",
      "\tСсылка: https://lenta.ru/news/2023/01/05/kirilldouble/ \n",
      "\n",
      "17. 10:37, Ереван призвал направить в Лачинский коридор международную миссию, \n",
      "\tСсылка: https://lenta.ru/news/2023/01/05/koridor/ \n",
      "\n",
      "18. 00:17, 31 декабря 2022, Те, кто ушли., \n",
      "\tСсылка: https://lenta.ru/articles/2022/12/31/gone2022/ \n",
      "\n"
     ]
    },
    {
     "data": {
      "text/html": [
       "<img src=\"https://icdn.lenta.ru/images/2022/12/12/18/20221212181957658/owl_article_280_6c24bde0f8c601870cabf6f53039b98b.jpg\" width=\"100\" height=\"100\" class=\"unconfined\"/>"
      ],
      "text/plain": [
       "<IPython.core.display.Image object>"
      ]
     },
     "metadata": {},
     "output_type": "display_data"
    },
    {
     "name": "stdout",
     "output_type": "stream",
     "text": [
      "19. 10:28, «Роскосмос» объявил о сотрудничестве с Зимбабве в создании и запуске спутников, \n",
      "\tСсылка: https://lenta.ru/news/2023/01/05/roskosmos/ \n",
      "\n",
      "20. 10:20, Определились финалисты молодежного чемпионата мира по хоккею, \n",
      "\tСсылка: https://lenta.ru/news/2023/01/05/hockeyfinal/ \n",
      "\n",
      "21. 10:18, Российским регионам предрекли аномальные морозы до 53 градусов, \n",
      "\tСсылка: https://lenta.ru/news/2023/01/05/anomal/ \n",
      "\n",
      "22. 00:01, 3 января 2023, «Или вместе — или никто», \n",
      "\tСсылка: https://lenta.ru/articles/2023/01/03/molokane_az/ \n",
      "\n"
     ]
    },
    {
     "data": {
      "text/html": [
       "<img src=\"https://icdn.lenta.ru/images/2022/12/26/17/20221226172756271/owl_article_280_52576b5f9b19349deb9abf63c2815844.jpg\" width=\"100\" height=\"100\" class=\"unconfined\"/>"
      ],
      "text/plain": [
       "<IPython.core.display.Image object>"
      ]
     },
     "metadata": {},
     "output_type": "display_data"
    },
    {
     "name": "stdout",
     "output_type": "stream",
     "text": [
      "23. 10:07, В Москве объявили «оранжевый» уровень погодной опасности, \n",
      "\tСсылка: https://moslenta.ru/news/city/oranzhevyi-uroven-05-01-2023.htm \n",
      "\n",
      "24. 09:58, Байден попытался пересказать мудрость от соседа и озадачил американцев, \n",
      "\tСсылка: https://lenta.ru/news/2023/01/05/zaplatka/ \n",
      "\n",
      "25. 09:40, Россиянам напомнили о появлении нового сигнала светофора, \n",
      "\tСсылка: https://lenta.ru/news/2023/01/05/svet/ \n",
      "\n",
      "26. 00:01, 2 января 2023, Новые «Викинги», черная мафия и экранизация великой игры The Last of Us:, \n",
      "\tСсылка: https://lenta.ru/articles/2023/01/02/seriesjanuary/ \n",
      "\n"
     ]
    },
    {
     "data": {
      "text/html": [
       "<img src=\"https://icdn.lenta.ru/images/2022/12/23/16/20221223160710213/owl_article_280_04b99d918e2c9ce0bc5e4e640930b1d5.jpg\" width=\"100\" height=\"100\" class=\"unconfined\"/>"
      ],
      "text/plain": [
       "<IPython.core.display.Image object>"
      ]
     },
     "metadata": {},
     "output_type": "display_data"
    },
    {
     "name": "stdout",
     "output_type": "stream",
     "text": [
      "27. 09:37, Володин отреагировал на планы Германии передать замороженные активы России Киеву, \n",
      "\tСсылка: https://lenta.ru/news/2023/01/05/aktivy/ \n",
      "\n",
      "28. 09:27, Попавший под снегоуборочную машину звезда «Мстителей» обратился к фанатам, \n",
      "\tСсылка: https://lenta.ru/news/2023/01/05/renner/ \n",
      "\n",
      "29. 09:20, В ООН отказались комментировать слова Меркель и Олланда о Минских соглашениях, \n",
      "\tСсылка: https://lenta.ru/news/2023/01/05/unmisk/ \n",
      "\n",
      "30. 00:02, 3 февраля 2022, «Это отличный способ накопить на квартиру», \n",
      "\tСсылка: https://lenta.ru/articles/2022/02/03/yacht/ \n",
      "\n"
     ]
    },
    {
     "data": {
      "text/html": [
       "<img src=\"https://icdn.lenta.ru/images/2022/01/14/16/20220114162502632/owl_article_280_6f53004eec5d78ef0764de5637078e34.jpg\" width=\"100\" height=\"100\" class=\"unconfined\"/>"
      ],
      "text/plain": [
       "<IPython.core.display.Image object>"
      ]
     },
     "metadata": {},
     "output_type": "display_data"
    },
    {
     "name": "stdout",
     "output_type": "stream",
     "text": [
      "31. 09:17, ЛОР-врач рекомендовала простой способ лечения насморка, \n",
      "\tСсылка: https://moslenta.ru/news/city/sposob-lecheniya-nasmorka-05-01-2023.htm/ \n",
      "\n",
      "32. 09:05, Появились подробности драки принца Гарри со старшим братом Уильямом, \n",
      "\tСсылка: https://lenta.ru/news/2023/01/05/prince_harry/ \n",
      "\n",
      "33. 09:03, Организаторы Australian Open отказались отстранять теннисистов из России, \n",
      "\tСсылка: https://lenta.ru/news/2023/01/05/otkaz_otkaza/ \n",
      "\n",
      "34. 08:36, Беспилотник КНДР проник в бесполетную зону у офиса президента Южной Кореи, \n",
      "\tСсылка: https://lenta.ru/news/2023/01/05/drone/ \n",
      "\n",
      "35. 08:07, Супруге Байдена удалят новообразование на лице, \n",
      "\tСсылка: https://lenta.ru/news/2023/01/05/operation/ \n",
      "\n",
      "36. 08:03, Названы последствия массовой миграции в Европу, \n",
      "\tСсылка: https://lenta.ru/news/2023/01/05/refugees/ \n",
      "\n",
      "37. 00:01, 12 июня 2022, «Я чувствовала, что достигла дна», \n",
      "\tСсылка: https://lenta.ru/articles/2022/06/12/xxs/ \n",
      "\n"
     ]
    },
    {
     "data": {
      "text/html": [
       "<img src=\"https://icdn.lenta.ru/images/2022/12/15/16/20221215161652818/owl_article_280_00774f7133e01be42b30577d0c308d32.jpg\" width=\"100\" height=\"100\" class=\"unconfined\"/>"
      ],
      "text/plain": [
       "<IPython.core.display.Image object>"
      ]
     },
     "metadata": {},
     "output_type": "display_data"
    },
    {
     "name": "stdout",
     "output_type": "stream",
     "text": [
      "38. 07:53, Австралия купит HIMARS у США, \n",
      "\tСсылка: https://lenta.ru/news/2023/01/05/himars/ \n",
      "\n",
      "39. 07:52, Посол Индонезии сообщил о рассмотрении вопроса об использовании карт «Мир», \n",
      "\tСсылка: https://lenta.ru/news/2023/01/05/indo_mir/ \n",
      "\n",
      "40. 07:18, Преступные группировки Молдавии уличили в организации побега мужчин с Украины, \n",
      "\tСсылка: https://lenta.ru/news/2023/01/05/mldd/ \n",
      "\n",
      "41. 00:01, 10 марта 2022, «Дай мне пистолет и увози семью», \n",
      "\tСсылка: https://lenta.ru/articles/2022/03/10/pmr_1992/ \n",
      "\n"
     ]
    },
    {
     "data": {
      "text/html": [
       "<img src=\"https://icdn.lenta.ru/images/2021/12/30/12/20211230125121905/owl_article_280_9bbef66605a48dc9cf70828a77df689c.jpg\" width=\"100\" height=\"100\" class=\"unconfined\"/>"
      ],
      "text/plain": [
       "<IPython.core.display.Image object>"
      ]
     },
     "metadata": {},
     "output_type": "display_data"
    },
    {
     "name": "stdout",
     "output_type": "stream",
     "text": [
      "42. 07:05, Подсчитано количество обнаруженных российской ПВО самолетов-разведчиков, \n",
      "\tСсылка: https://lenta.ru/news/2023/01/05/pvo/ \n",
      "\n",
      "43. 07:01, Тайвань расширил ограничения на экспорт в Россию, \n",
      "\tСсылка: https://lenta.ru/news/2023/01/05/taivan/ \n",
      "\n",
      "44. 06:51, Стали известны заработки московской Снегурочки, \n",
      "\tСсылка: https://moslenta.ru/news/city/zarabotki-moskovskoi-snegurochki-05-01-2023.htm/ \n",
      "\n",
      "45. 00:01, 18 апреля 2022, «Кровавый хаос не устраивал никого», \n",
      "\tСсылка: https://lenta.ru/articles/2022/04/18/molody/ \n",
      "\n"
     ]
    },
    {
     "data": {
      "text/html": [
       "<img src=\"https://icdn.lenta.ru/images/2022/03/02/11/20220302110323179/owl_article_280_e7dfaa17b562565c3bb32fd88d05733f.jpg\" width=\"100\" height=\"100\" class=\"unconfined\"/>"
      ],
      "text/plain": [
       "<IPython.core.display.Image object>"
      ]
     },
     "metadata": {},
     "output_type": "display_data"
    },
    {
     "name": "stdout",
     "output_type": "stream",
     "text": [
      "46. 06:43, Россиян предостерегли от ошибок при разгрузочных днях, \n",
      "\tСсылка: https://lenta.ru/news/2023/01/05/razgruzka/ \n",
      "\n",
      "47. 06:32, Названы главные задачи Байдена на 2023 год, \n",
      "\tСсылка: https://lenta.ru/news/2023/01/05/postavki/ \n",
      "\n",
      "48. 06:26, Швейцария открестилась от поставок Ирану деталей для производства беспилотников, \n",
      "\tСсылка: https://lenta.ru/news/2023/01/05/switzerland/ \n",
      "\n",
      "49. 00:01, 3 января 2023, «Был выбор: победить или умереть», \n",
      "\tСсылка: https://lenta.ru/articles/2023/01/03/ussr_chekh/ \n",
      "\n"
     ]
    },
    {
     "data": {
      "text/html": [
       "<img src=\"https://icdn.lenta.ru/images/2022/12/19/13/20221219133949679/owl_article_280_af18bc3c4b411b64362ccd626ecca21a.jpg\" width=\"100\" height=\"100\" class=\"unconfined\"/>"
      ],
      "text/plain": [
       "<IPython.core.display.Image object>"
      ]
     },
     "metadata": {},
     "output_type": "display_data"
    },
    {
     "name": "stdout",
     "output_type": "stream",
     "text": [
      "50. 06:19, Военкор рассказал об использовании тактики запугивания в ВСУ, \n",
      "\tСсылка: https://lenta.ru/news/2023/01/05/vsuu/ \n",
      "\n",
      "51. 06:02, Воздушная тревога объявлена в четырех областях Украины, \n",
      "\tСсылка: https://lenta.ru/news/2023/01/05/alarm/ \n",
      "\n",
      "52. 05:45, Финляндия не пустила больше трех тысяч человек через границу с РФ в 2022 году, \n",
      "\tСсылка: https://lenta.ru/news/2023/01/05/finland/ \n",
      "\n",
      "53. 00:01, 3 января 2023, «Кровожадненькая, но до чего же ламповая», \n",
      "\tСсылка: https://lenta.ru/articles/2023/01/03/vkysnye_istorrii/ \n",
      "\n"
     ]
    },
    {
     "data": {
      "text/html": [
       "<img src=\"https://icdn.lenta.ru/images/2022/09/09/17/20220909172633978/owl_article_280_45ddff5cd7a6d6755b0c781051aa4cc3.jpg\" width=\"100\" height=\"100\" class=\"unconfined\"/>"
      ],
      "text/plain": [
       "<IPython.core.display.Image object>"
      ]
     },
     "metadata": {},
     "output_type": "display_data"
    },
    {
     "name": "stdout",
     "output_type": "stream",
     "text": [
      "54. 05:43, Известная актриса объяснила причину празднования Нового года за границей, \n",
      "\tСсылка: https://moslenta.ru/news/lyudi/izvestnaya-aktrisa-05-01-2023.htm/ \n",
      "\n",
      "55. 05:30, Губернатор Азаров заявил о переводе в Самару 60-70 раненых военных из Макеевки, \n",
      "\tСсылка: https://lenta.ru/news/2023/01/05/samara/ \n",
      "\n",
      "56. 04:56, В России указали на попадание в зависимость Запада и Востока от Эрдогана, \n",
      "\tСсылка: https://lenta.ru/news/2023/01/05/zavis/ \n",
      "\n",
      "57. 00:02, 3 января 2023, «Стошнит от одной мысли о таком», \n",
      "\tСсылка: https://lenta.ru/articles/2023/01/03/alcohol/ \n",
      "\n"
     ]
    },
    {
     "data": {
      "text/html": [
       "<img src=\"https://icdn.lenta.ru/images/2022/12/30/17/20221230171637091/owl_article_280_285cbce14cc277679ed159f3d5bbf868.jpg\" width=\"100\" height=\"100\" class=\"unconfined\"/>"
      ],
      "text/plain": [
       "<IPython.core.display.Image object>"
      ]
     },
     "metadata": {},
     "output_type": "display_data"
    },
    {
     "name": "stdout",
     "output_type": "stream",
     "text": [
      "58. 04:37, ШОС заявила о готовности создать условия для решения украинского кризиса, \n",
      "\tСсылка: https://lenta.ru/news/2023/01/05/uslovia/ \n",
      "\n",
      "59. 04:30, Юрист назвала способы взыскать алименты без развода, \n",
      "\tСсылка: https://moslenta.ru/news/city/alimenty-bez-razvoda-05-01-2023.htm/ \n",
      "\n",
      "60. 04:23, Назван срок передачи ВМФ подлодки для «Циркона», \n",
      "\tСсылка: https://lenta.ru/news/2023/01/05/curk/ \n",
      "\n",
      "61. 12:56, 2 января 2023, Шальные фейерверки, пожар в центре Москвы и убийство у «Зарядья»:, \n",
      "\tСсылка: https://lenta.ru/articles/2023/01/02/newyear/ \n",
      "\n"
     ]
    },
    {
     "data": {
      "text/html": [
       "<img src=\"https://icdn.lenta.ru/images/2022/12/25/13/20221225133902408/owl_article_280_50eeded4a88bff7b86d4b3d58ce597b5.jpg\" width=\"100\" height=\"100\" class=\"unconfined\"/>"
      ],
      "text/plain": [
       "<IPython.core.display.Image object>"
      ]
     },
     "metadata": {},
     "output_type": "display_data"
    },
    {
     "name": "stdout",
     "output_type": "stream",
     "text": [
      "62. 04:06, В здравомыслии Макрона усомнились из-за поставок бронетехники на Украину, \n",
      "\tСсылка: https://lenta.ru/news/2023/01/05/lepoint/ \n",
      "\n",
      "63. 03:36, Определено используемое для одной станции метро количество светильников, \n",
      "\tСсылка: https://moslenta.ru/news/city/kolichestvo-svetilnikov-05-01-2023.htm/ \n",
      "\n",
      "64. 03:35, Белый дом заверил в отсутствии давления на Израиль из-за Украины, \n",
      "\tСсылка: https://lenta.ru/news/2023/01/05/no_pressure/ \n",
      "\n",
      "65. 00:01, 2 января 2023, «Государь на час», \n",
      "\tСсылка: https://lenta.ru/articles/2023/01/02/andropov/ \n",
      "\n"
     ]
    },
    {
     "data": {
      "text/html": [
       "<img src=\"https://icdn.lenta.ru/images/2022/12/15/16/20221215160641302/owl_article_280_51acc99321411532b2b926cbbfc659a2.jpg\" width=\"100\" height=\"100\" class=\"unconfined\"/>"
      ],
      "text/plain": [
       "<IPython.core.display.Image object>"
      ]
     },
     "metadata": {},
     "output_type": "display_data"
    },
    {
     "name": "stdout",
     "output_type": "stream",
     "text": [
      "66. 03:27, В Москве убили ведущую «Русского радио», \n",
      "\tСсылка: https://lenta.ru/news/2023/01/05/azovskaya/ \n",
      "\n",
      "67. 02:57, Зеленский не увидел причин для отказа в передаче танков Украине, \n",
      "\tСсылка: https://lenta.ru/news/2023/01/05/no_reason/ \n",
      "\n",
      "68. 02:48, УПЦ назвала позором богослужение раскольников в Киево-Печерской лавре, \n",
      "\tСсылка: https://lenta.ru/news/2023/01/05/pozor/ \n",
      "\n",
      "69. 00:01, 2 января 2023, Глубокий космос, сердце свиньи в человеке и неандертальцы в России:, \n",
      "\tСсылка: https://lenta.ru/articles/2023/01/02/top_science/ \n",
      "\n"
     ]
    },
    {
     "data": {
      "text/html": [
       "<img src=\"https://icdn.lenta.ru/images/2022/12/27/14/20221227145756409/owl_article_280_f5cd36f43673708555f0958ecf9ff7f3.jpeg\" width=\"100\" height=\"100\" class=\"unconfined\"/>"
      ],
      "text/plain": [
       "<IPython.core.display.Image object>"
      ]
     },
     "metadata": {},
     "output_type": "display_data"
    },
    {
     "name": "stdout",
     "output_type": "stream",
     "text": [
      "70. 02:34, Стало известно о предыдущем названии Марксисткой улицы в Москве, \n",
      "\tСсылка: https://moslenta.ru/news/istoriya/marksistkaya-05-01-2023.htm/ \n",
      "\n",
      "71. 02:07, Шойгу заявил о способности «Цирконов» преодолеть любую ПВО и ПРО, \n",
      "\tСсылка: https://lenta.ru/news/2023/01/05/cirkon/ \n",
      "\n",
      "72. 01:49, В Мелитополе сообщили о взрыве, \n",
      "\tСсылка: https://lenta.ru/news/2023/01/05/vzz/ \n",
      "\n",
      "73. 00:01, 1 января 2023, «Это незабываемое чувство», \n",
      "\tСсылка: https://lenta.ru/articles/2023/01/01/newyearstories/ \n",
      "\n"
     ]
    },
    {
     "data": {
      "text/html": [
       "<img src=\"https://icdn.lenta.ru/images/2022/12/30/18/20221230184631580/owl_article_280_4fb5f0665007a9743ece3009a99433f8.jpg\" width=\"100\" height=\"100\" class=\"unconfined\"/>"
      ],
      "text/plain": [
       "<IPython.core.display.Image object>"
      ]
     },
     "metadata": {},
     "output_type": "display_data"
    },
    {
     "name": "stdout",
     "output_type": "stream",
     "text": [
      "74. 01:48, Раненых при обстреле в Макеевке военных отправили в другие регионы, \n",
      "\tСсылка: https://lenta.ru/news/2023/01/05/otprav/ \n",
      "\n",
      "75. 01:41, В США рассказали о страхе поставлять Киеву ряд вооружений из-за России, \n",
      "\tСсылка: https://lenta.ru/news/2023/01/05/3vida/ \n",
      "\n",
      "76. 01:30, Россияне назвали недостатки своих первых коньков из советского детства, \n",
      "\tСсылка: https://moslenta.ru/news/city/nedostatki-konkov-05-01-2023.htm/ \n",
      "\n",
      "77. 00:01, 1 января 2023, В прокате — «Клипмейкеры» о 1990-х глазами российской кинотусовки., \n",
      "\tСсылка: https://lenta.ru/articles/2023/01/01/clipmakers/ \n",
      "\n"
     ]
    },
    {
     "data": {
      "text/html": [
       "<img src=\"https://icdn.lenta.ru/images/2022/12/28/17/20221228172608998/owl_article_280_d56a48ca0d07aac85d08a4d02c377207.jpeg\" width=\"100\" height=\"100\" class=\"unconfined\"/>"
      ],
      "text/plain": [
       "<IPython.core.display.Image object>"
      ]
     },
     "metadata": {},
     "output_type": "display_data"
    },
    {
     "name": "stdout",
     "output_type": "stream",
     "text": [
      "78. 01:15, Российский генерал предупредил о подготовке провокации террористами в Сирии, \n",
      "\tСсылка: https://lenta.ru/news/2023/01/05/provocation/ \n",
      "\n",
      "79. 01:11, Кубок мира на фотографии Месси оказался подделкой, \n",
      "\tСсылка: https://lenta.ru/news/2023/01/05/fake/ \n",
      "\n",
      "80. 00:52, Глава Минкульта Украины захотел узаконить борьбу с улицами Пушкина, \n",
      "\tСсылка: https://lenta.ru/news/2023/01/05/pshkn/ \n",
      "\n"
     ]
    }
   ],
   "source": [
    "site = 'https://lenta.ru'\n",
    "\n",
    "def getNews(site):\n",
    "    r = requests.get(site)\n",
    "    return r.content\n",
    "\n",
    "def parseNews(content):\n",
    "    res = []\n",
    "    root = html.fromstring(content, parser = html.HTMLParser(encoding='utf-8'))\n",
    "    sc = root.xpath(\"//div[@class='layout__container']/main[@class='layout__content js-site-container']/div[@class='main-page']/section[@class='main-page__section']\")\n",
    "\n",
    "    for section in sc:\n",
    "        longgrid = section.xpath(\".//div[@class='main-container']/div[@class='longgrid-list']\")\n",
    "        # columns\n",
    "        for news_column in longgrid:\n",
    "            box = news_column.xpath(\".//div[@class='longgrid-list__box']\")\n",
    "            for a in box:            \n",
    "                for news in a.xpath(\".//a[@class='card-big _longgrid']\"):\n",
    "                    href = news.xpath(\".//@href\")[0]\n",
    "                    title = news.xpath(\"div[@class='card-big__titles']/h3/text()\")[0]\n",
    "                    img = news.xpath(\"div[@class='card-big__image-wrap']/img/@src\")[0]\n",
    "                    date = news.xpath(\"div[@class='card-big__info']/time/text()\")[0]\n",
    "                    res.append({\"href\": href, \"title\": title, \"date\": date, \"img\": img})\n",
    "                for news in a.xpath(\".//a[@class='card-mini _longgrid']\"):\n",
    "                    href = news.xpath(\".//@href\")[0]\n",
    "                    title = news.xpath(\"div[@class='card-mini__text']/span[@class='card-mini__title']/text()\")[0]\n",
    "                    date = news.xpath(\"div[@class='card-mini__text']/div[@class='card-mini__info']/time/text()\")[0]\n",
    "                    res.append({\"href\": href, \"title\": title, \"date\": date, \"img\": None})\n",
    "    return res\n",
    "\n",
    "def printNews(news):\n",
    "    for idx, x in enumerate(news):   \n",
    "        print(f\"{idx+1}. {x['date']}, {x['title']}, \\n\\tСсылка: {site if 'https:' not in x['href'] else ''}{x['href']} \\n\")        \n",
    "        if x[\"img\"] != None:\n",
    "            display(Image(url=x['img'], width=100, height=100, unconfined=True))\n",
    "    \n",
    "res = parseNews(getNews(site))\n",
    "printNews(res)\n",
    "\n"
   ]
  },
  {
   "cell_type": "code",
   "execution_count": null,
   "id": "67031f9c-a226-4b93-b7e9-f21af8ba31ef",
   "metadata": {},
   "outputs": [],
   "source": []
  }
 ],
 "metadata": {
  "kernelspec": {
   "display_name": "Python 3 (ipykernel)",
   "language": "python",
   "name": "python3"
  },
  "language_info": {
   "codemirror_mode": {
    "name": "ipython",
    "version": 3
   },
   "file_extension": ".py",
   "mimetype": "text/x-python",
   "name": "python",
   "nbconvert_exporter": "python",
   "pygments_lexer": "ipython3",
   "version": "3.10.6"
  }
 },
 "nbformat": 4,
 "nbformat_minor": 5
}
