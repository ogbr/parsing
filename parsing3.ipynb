{
 "cells": [
  {
   "cell_type": "code",
   "execution_count": 1,
   "id": "c324ad77-0abd-4944-a8e5-2b5803a81f50",
   "metadata": {},
   "outputs": [],
   "source": [
    "from bs4 import BeautifulSoup as bs\n",
    "import requests\n",
    "from pymongo import MongoClient\n",
    "#import sqlite3"
   ]
  },
  {
   "cell_type": "code",
   "execution_count": 2,
   "id": "ac97462e-00ca-41b1-ab49-5d5b55545077",
   "metadata": {},
   "outputs": [],
   "source": [
    "site = 'https://quotes.toscrape.com'\n",
    "\n",
    "def getQuotesContent(site):\n",
    "    response = requests.get(site) \n",
    "    return response.content\n",
    "    "
   ]
  },
  {
   "cell_type": "code",
   "execution_count": 3,
   "id": "9f090170-3aa7-44fc-a88b-8e498104f23a",
   "metadata": {},
   "outputs": [],
   "source": [
    "def getQuotes(content):\n",
    "    res = []\n",
    "    soup = bs(content, 'html.parser')            \n",
    "    quotes = soup.find_all('div', attrs={'class': 'quote'})\n",
    "    for quote in quotes:\n",
    "        res.append({\"text\": quote.find('span', attrs={'class': 'text'}).text, \n",
    "                   \"author\": quote.find('small', attrs={'class': 'author'}).text})       \n",
    "    return res\n",
    "\n",
    "def getQuotesDepth(site, depth):\n",
    "    res = []\n",
    "    for i in range(1, depth+1):\n",
    "        res = res + getQuotes(getQuotesContent(f\"{site}/page/{i}/\"))\n",
    "    return res\n",
    "\n",
    "qts = getQuotesDepth(site,3)"
   ]
  },
  {
   "cell_type": "markdown",
   "id": "e631a4d6-019b-4434-a2aa-1e45551eb8ec",
   "metadata": {},
   "source": [
    "### Сохранить в БД"
   ]
  },
  {
   "cell_type": "code",
   "execution_count": 4,
   "id": "0034ad99-750b-4894-a31b-b1ea03d61ed4",
   "metadata": {},
   "outputs": [],
   "source": [
    "client = MongoClient('mongodb://localhost:27017/')"
   ]
  },
  {
   "cell_type": "code",
   "execution_count": 5,
   "id": "2b926f1f-5da1-47b3-91fc-fabfa7ce6c37",
   "metadata": {},
   "outputs": [
    {
     "data": {
      "text/plain": [
       "['admin', 'config', 'local', 'news']"
      ]
     },
     "execution_count": 5,
     "metadata": {},
     "output_type": "execute_result"
    }
   ],
   "source": [
    "client.list_database_names()"
   ]
  },
  {
   "cell_type": "code",
   "execution_count": 6,
   "id": "86121dc2-2666-4a9e-9d7e-3882ad985c65",
   "metadata": {
    "tags": []
   },
   "outputs": [],
   "source": [
    "db = client.quotes\n",
    "#db.quotes.drop()"
   ]
  },
  {
   "cell_type": "code",
   "execution_count": 7,
   "id": "14f9b002-c9e5-487e-9dd9-3a33d75ec1ca",
   "metadata": {
    "tags": []
   },
   "outputs": [
    {
     "name": "stdout",
     "output_type": "stream",
     "text": [
      "записей в БД: 0\n",
      "записей в БД: 30\n"
     ]
    }
   ],
   "source": [
    "# db.quotes.insert_many(qts)\n",
    "print(f\"записей в БД: {db.quotes.count_documents({})}\")\n",
    "for q in qts:\n",
    "    if db.quotes.count_documents({\"text\": q[\"text\"]}) == 0:\n",
    "        db.quotes.insert_one(q)\n",
    "print(f\"записей в БД: {db.quotes.count_documents({})}\")"
   ]
  },
  {
   "cell_type": "code",
   "execution_count": 8,
   "id": "9f8ea016-aca0-45af-a0c0-e024e781b53a",
   "metadata": {},
   "outputs": [
    {
     "data": {
      "text/plain": [
       "['admin', 'config', 'local', 'news', 'quotes']"
      ]
     },
     "execution_count": 8,
     "metadata": {},
     "output_type": "execute_result"
    }
   ],
   "source": [
    "client.list_database_names()"
   ]
  },
  {
   "cell_type": "code",
   "execution_count": 9,
   "id": "c600324c-ad9f-4ed0-9c3c-e06632d168dc",
   "metadata": {},
   "outputs": [],
   "source": [
    "#db.quotes.drop()"
   ]
  },
  {
   "cell_type": "code",
   "execution_count": 10,
   "id": "3dbeb350-5bcb-4be0-8c32-84f6513ea0d6",
   "metadata": {},
   "outputs": [
    {
     "name": "stdout",
     "output_type": "stream",
     "text": [
      "“The world as we have created it is a process of our thinking. It cannot be changed without changing our thinking.” Albert Einstein\n",
      "“There are only two ways to live your life. One is as though nothing is a miracle. The other is as though everything is a miracle.” Albert Einstein\n",
      "“Try not to become a man of success. Rather become a man of value.” Albert Einstein\n",
      "“If you can't explain it to a six year old, you don't understand it yourself.” Albert Einstein\n",
      "“If you want your children to be intelligent, read them fairy tales. If you want them to be more intelligent, read them more fairy tales.” Albert Einstein\n",
      "“Logic will get you from A to Z; imagination will get you everywhere.” Albert Einstein\n"
     ]
    }
   ],
   "source": [
    "r = db.quotes.find({\"author\": 'Albert Einstein'})\n",
    "for a in r:\n",
    "    print(a[\"text\"],a[\"author\"])"
   ]
  },
  {
   "cell_type": "code",
   "execution_count": null,
   "id": "7882d191-694c-45c0-b42c-c42ea13d7eb1",
   "metadata": {},
   "outputs": [],
   "source": []
  }
 ],
 "metadata": {
  "kernelspec": {
   "display_name": "Python 3 (ipykernel)",
   "language": "python",
   "name": "python3"
  },
  "language_info": {
   "codemirror_mode": {
    "name": "ipython",
    "version": 3
   },
   "file_extension": ".py",
   "mimetype": "text/x-python",
   "name": "python",
   "nbconvert_exporter": "python",
   "pygments_lexer": "ipython3",
   "version": "3.10.6"
  }
 },
 "nbformat": 4,
 "nbformat_minor": 5
}
