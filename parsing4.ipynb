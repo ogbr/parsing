{
 "cells": [
  {
   "cell_type": "code",
   "execution_count": 1,
   "id": "40ebbe5b-6e92-4f72-93af-bc6d0daff9cc",
   "metadata": {},
   "outputs": [],
   "source": [
    "from pprint import pprint\n",
    "from lxml import html\n",
    "import requests\n",
    "from IPython.display import Image, display\n",
    "from pymongo import MongoClient"
   ]
  },
  {
   "cell_type": "code",
   "execution_count": 2,
   "id": "2b10272a-ea4b-4158-a74e-ff57ec058ceb",
   "metadata": {},
   "outputs": [],
   "source": [
    "site = 'https://lenta.ru'\n",
    "\n",
    "def getNews(site):\n",
    "    r = requests.get(site)\n",
    "    return r.content\n",
    "\n",
    "def parseNews(content):\n",
    "    res = []\n",
    "    root = html.fromstring(content, parser = html.HTMLParser(encoding='utf-8'))\n",
    "    sc = root.xpath(\"//div[@class='layout__container']/main[@class='layout__content js-site-container']/div[@class='main-page']/section[@class='main-page__section']\")\n",
    "\n",
    "    for section in sc:\n",
    "        longgrid = section.xpath(\".//div[@class='main-container']/div[@class='longgrid-list']\")\n",
    "        # columns\n",
    "        for news_column in longgrid:\n",
    "            box = news_column.xpath(\".//div[@class='longgrid-list__box']\")\n",
    "            for a in box:            \n",
    "                for news in a.xpath(\".//a[@class='card-big _longgrid']\"):\n",
    "                    href = news.xpath(\".//@href\")[0]\n",
    "                    title = news.xpath(\"div[@class='card-big__titles']/h3/text()\")[0]\n",
    "                    img = news.xpath(\"div[@class='card-big__image-wrap']/img/@src\")[0]\n",
    "                    date = news.xpath(\"div[@class='card-big__info']/time/text()\")[0]\n",
    "                    res.append({\"href\": href, \"title\": title, \"date\": date, \"img\": img})\n",
    "                for news in a.xpath(\".//a[@class='card-mini _longgrid']\"):\n",
    "                    href = news.xpath(\".//@href\")[0]\n",
    "                    title = news.xpath(\"div[@class='card-mini__text']/span[@class='card-mini__title']/text()\")[0]\n",
    "                    date = news.xpath(\"div[@class='card-mini__text']/div[@class='card-mini__info']/time/text()\")[0]\n",
    "                    res.append({\"href\": href, \"title\": title, \"date\": date, \"img\": None})\n",
    "    return res\n",
    "\n",
    "def storeNewsToDB(news):    \n",
    "    db = client.news\n",
    "    db.news.drop()\n",
    "    db.news.insert_many(news)\n",
    "    \n",
    "def printFromDbByDate(value):\n",
    "    db = client.news\n",
    "    r = db.news.find({ \"date\": { \"$regex\": value, \"$options\" :'i' } })\n",
    "    for a in r:\n",
    "        print(a[\"title\"],a[\"date\"])   \n",
    "\n"
   ]
  },
  {
   "cell_type": "code",
   "execution_count": 3,
   "id": "b17137de-05df-49de-aad4-aef7eef1144f",
   "metadata": {},
   "outputs": [
    {
     "name": "stdout",
     "output_type": "stream",
     "text": [
      "«Или вместе — или никто» 00:01, 3 января 2023\n",
      "«Был выбор: победить или умереть» 00:01, 3 января 2023\n",
      "«Кровожадненькая, но до чего же ламповая» 00:01, 3 января 2023\n",
      "«Стошнит от одной мысли о таком» 00:02, 3 января 2023\n"
     ]
    }
   ],
   "source": [
    "client = MongoClient('mongodb://localhost:27017/')\n",
    "news = parseNews(getNews(site))\n",
    "storeNewsToDB(news)\n",
    "printFromDbByDate('3 января')"
   ]
  },
  {
   "cell_type": "code",
   "execution_count": null,
   "id": "70357112-d6fd-4b34-8a06-9bec56af97e1",
   "metadata": {},
   "outputs": [],
   "source": []
  }
 ],
 "metadata": {
  "kernelspec": {
   "display_name": "Python 3 (ipykernel)",
   "language": "python",
   "name": "python3"
  },
  "language_info": {
   "codemirror_mode": {
    "name": "ipython",
    "version": 3
   },
   "file_extension": ".py",
   "mimetype": "text/x-python",
   "name": "python",
   "nbconvert_exporter": "python",
   "pygments_lexer": "ipython3",
   "version": "3.10.6"
  }
 },
 "nbformat": 4,
 "nbformat_minor": 5
}
